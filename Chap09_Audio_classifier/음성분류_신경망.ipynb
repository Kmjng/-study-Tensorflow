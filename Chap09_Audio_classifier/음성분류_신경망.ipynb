{
  "nbformat": 4,
  "nbformat_minor": 0,
  "metadata": {
    "colab": {
      "provenance": [],
      "machine_shape": "hm"
    },
    "kernelspec": {
      "name": "python3",
      "display_name": "Python 3"
    },
    "language_info": {
      "name": "python"
    },
    "accelerator": "GPU"
  },
  "cells": [
    {
      "cell_type": "code",
      "execution_count": null,
      "metadata": {
        "id": "E23fZqEUtovW"
      },
      "outputs": [],
      "source": [
        "import pandas as pd\n",
        "import numpy as np\n",
        "import glob #glob 모듈의 glob 함수는 지정한 특정 경로의 파일명을 리스트 형식으로 반환한다."
      ]
    },
    {
      "cell_type": "code",
      "source": [
        "# 1) drive 연동\n",
        "from google.colab import drive\n",
        "drive.mount('/content/drive/') # 인증 -> Mounted at /content/drive/"
      ],
      "metadata": {
        "colab": {
          "base_uri": "https://localhost:8080/"
        },
        "id": "u_PzkvRfIpjA",
        "outputId": "18c33deb-86e8-4f1c-bd5a-479c5ef0af78"
      },
      "execution_count": null,
      "outputs": [
        {
          "output_type": "stream",
          "name": "stdout",
          "text": [
            "Drive already mounted at /content/drive/; to attempt to forcibly remount, call drive.mount(\"/content/drive/\", force_remount=True).\n"
          ]
        }
      ]
    },
    {
      "cell_type": "code",
      "source": [
        "# 2) drive 확인 : Mounted as /content/drive\n",
        "!ls '/content/drive/' # 'MyDrive'"
      ],
      "metadata": {
        "id": "d_F6bwuSJEmp"
      },
      "execution_count": null,
      "outputs": []
    },
    {
      "cell_type": "code",
      "source": [
        "# 3) directory file 목록 확인 : dataset은 google driver에서 기존에 만듬\n",
        "!ls -Fcal '/content/drive/MyDrive/dataset'\n",
        "# -rw------- 1 root root 101690691 Jun 28 13:41 cats_dogs.zip"
      ],
      "metadata": {
        "id": "ZJsV_vNaJVp_"
      },
      "execution_count": null,
      "outputs": []
    },
    {
      "cell_type": "code",
      "source": [
        "# 압축풀기 : 구글 drive에 'cats_dogs' 폴더로 압축파일이 풀린다.\n",
        "!unzip -qq /content/drive/MyDrive/dataset/cats_dogs.zip  -d /content/drive/MyDrive/dataset/cats_dogs"
      ],
      "metadata": {
        "id": "T1fiU8JxPyvT"
      },
      "execution_count": null,
      "outputs": []
    },
    {
      "cell_type": "code",
      "source": [
        "Test_root = glob.glob('/content/drive/MyDrive/dataset/cats_dogs/test')[0]\n",
        "Train_root = glob.glob('/content/drive/MyDrive/dataset/cats_dogs/train')[0]\n",
        "X_path = glob.glob(Test_root + \"/dogs/*\")\n",
        "X_path = X_path + glob.glob(Test_root + \"/cats/*\")\n",
        "X_path = X_path + glob.glob(Train_root + \"/dog/*\")\n",
        "X_path = X_path + glob.glob(Train_root + \"/cat/*\")\n",
        "print(X_path) # ['/content/drive/MyDrive/dataset/cats_dogs/test/cats/cat_110.wav',..."
      ],
      "metadata": {
        "id": "lnXQPx47t0tu"
      },
      "execution_count": null,
      "outputs": []
    },
    {
      "cell_type": "code",
      "source": [
        "# 레이블링 : 고양이(0), 강아지(1)\n",
        "\n",
        "import ntpath # 특정 경로에서 파일들을 가져오는 라이브러리\n",
        "y = np.empty((0, 1, )) # 비어있는 리스트 만들기\n",
        "\n",
        "for f in X_path:\n",
        "    if 'cat' in ntpath.basename(f): #  음성 데이터가 있는 디렉토리의 데이터가 '고양이' 음성 : 0\n",
        "        resp = np.array([0])  #   [0]\n",
        "        resp = resp.reshape(1, 1, ) # [[0]]\n",
        "        y = np.vstack((y, resp))  # 배열을 세로로 결합\n",
        "    elif 'dog' in ntpath.basename(f): # 음성 데이터가 있는 디렉토리의 데이터가 '강아지' 음성 : 1\n",
        "        resp = np.array([1])  # [1]\n",
        "        resp = resp.reshape(1, 1, ) #[[1]]\n",
        "        y = np.vstack((y, resp)) #\n",
        "print (y)"
      ],
      "metadata": {
        "id": "BrxaGwv_zj0H"
      },
      "execution_count": null,
      "outputs": []
    },
    {
      "cell_type": "code",
      "source": [
        "# 데이터셋 나누기\n",
        "from sklearn.model_selection import train_test_split\n",
        "X_train, X_test, y_train, y_test = train_test_split(X_path, y, test_size=0.25, random_state=42)\n",
        "print(len(X_train)) # 186\n",
        "len(X_test) # 63"
      ],
      "metadata": {
        "id": "RpMV7TvEzqHP"
      },
      "execution_count": null,
      "outputs": []
    },
    {
      "cell_type": "code",
      "source": [
        "# 오디오 듣기\n",
        "import IPython.display as ipd\n",
        "ipd.Audio(X_train[0]) # 강아지"
      ],
      "metadata": {
        "id": "tMtuYCHGS28V"
      },
      "execution_count": null,
      "outputs": []
    },
    {
      "cell_type": "code",
      "source": [
        "import librosa #음원 데이터를 분석해주는 라이브러리(음성파일 읽기, 특징 추출)\n",
        "\n",
        "# 음성파일 읽기 & 디지털 변환 함수\n",
        "def librosa_read_wav_files(wav_files):\n",
        "    if not isinstance(wav_files, list): # isinstance(1, int) # 1이 int형인지 알아본다. 결과는 True\n",
        "        wav_files = [wav_files]\n",
        "    return [librosa.load(f)[0] for f in wav_files] # 음성파일 읽기"
      ],
      "metadata": {
        "id": "3b61hwsNzuRI"
      },
      "execution_count": null,
      "outputs": []
    },
    {
      "cell_type": "code",
      "source": [
        "# 음성파일 읽기 테스트\n",
        "wav_rate = librosa.load(X_train[0])[1] # 첫번째 동물의 소리 읽기\n",
        "print(wav_rate) # 22,050Hz : 고양이,강아지의 샘플 비율(1초당 주파수 개수)"
      ],
      "metadata": {
        "id": "L0AhepHrzxcB"
      },
      "execution_count": null,
      "outputs": []
    },
    {
      "cell_type": "code",
      "source": [
        "# train/test 음성파일 읽기\n",
        "X_train2 = librosa_read_wav_files(X_train)\n",
        "X_test2  = librosa_read_wav_files(X_test)\n",
        "print(len(X_train2)) # 186\n",
        "print(len(X_test2)) # 63\n",
        "print(X_train2[0]) # 디지털 정보 : [-0.00438596 -0.00607391 -0.00652236 ...  0.00694985  0.00674006  0.00268085]\n"
      ],
      "metadata": {
        "id": "9zcTHut4ep82"
      },
      "execution_count": null,
      "outputs": []
    },
    {
      "cell_type": "code",
      "source": [
        "# 디지털 음파(audio wave) 시각화\n",
        "import matplotlib.pyplot as plt\n",
        "fig, axs = plt.subplots(2, 2, figsize=(16,7))\n",
        "axs[0][0].plot(X_train2[0]) # 강아지 음파\n",
        "axs[0][1].plot(X_train2[1]) # 고양이 음파\n",
        "axs[1][0].plot(X_train2[2])\n",
        "axs[1][1].plot(X_train2[3])\n",
        "plt.show()"
      ],
      "metadata": {
        "id": "IuELAxdtz_8m"
      },
      "execution_count": null,
      "outputs": []
    },
    {
      "cell_type": "code",
      "source": [
        "# 오디오 특징 추출 함수\n",
        "def extract_features(audio_samples, sample_rate):\n",
        "    extracted_features = np.empty((0, 41, )) # (1,41) : 41개의 값을 받을 메모리를 할당하겠다는 뜻\n",
        "    if not isinstance(audio_samples, list):\n",
        "        audio_samples = [audio_samples]\n",
        "\n",
        "    for sample in audio_samples:\n",
        "        zero_cross_feat = librosa.feature.zero_crossing_rate(sample).mean()\n",
        "        mfccs = librosa.feature.mfcc(y=sample, sr=sample_rate, n_mfcc=40) # 오디오에서 40개 특징 추출\n",
        "        mfccsscaled = np.mean(mfccs.T,axis=0)  # 각 주파수별 평균값을 구하기\n",
        "        mfccsscaled = np.append(mfccsscaled, zero_cross_feat)\n",
        "        mfccsscaled = mfccsscaled.reshape(1, 41, )\n",
        "        extracted_features = np.vstack((extracted_features, mfccsscaled))\n",
        "    return extracted_features"
      ],
      "metadata": {
        "id": "R_kh7Tvc0GeP"
      },
      "execution_count": null,
      "outputs": []
    },
    {
      "cell_type": "code",
      "source": [
        "# 오디오 특징 추출\n",
        "# wave_rate 에 개과 고양이에 속하는 주파수 영역을 주어야 한다.\n",
        "\n",
        "X_train_features = extract_features(X_train2, wav_rate) # wav_rate=22050(sample_rate)\n",
        "X_test_features  = extract_features(X_test2, wav_rate) # wav_rate=22050(sample_rate)\n",
        "print(X_train_features.shape) # (186, 41)\n",
        "print(X_test_features.shape) # (63, 41)"
      ],
      "metadata": {
        "id": "fthKEcNg0KHa"
      },
      "execution_count": null,
      "outputs": []
    },
    {
      "cell_type": "code",
      "source": [
        "from keras import layers\n",
        "from keras import models\n",
        "from keras import optimizers\n",
        "from keras import losses\n",
        "from keras.callbacks import ModelCheckpoint,EarlyStopping\n",
        "from tensorflow.keras.utils import to_categorical"
      ],
      "metadata": {
        "id": "MM1a2T9c0Mxx"
      },
      "execution_count": null,
      "outputs": []
    },
    {
      "cell_type": "code",
      "source": [
        "# y변수 one-hot encoding\n",
        "train_labels = to_categorical(y_train)\n",
        "test_labels = to_categorical(y_test)\n",
        "print(test_labels)"
      ],
      "metadata": {
        "id": "SRdUQlTN0lib"
      },
      "execution_count": null,
      "outputs": []
    },
    {
      "cell_type": "code",
      "source": [
        "# 신경망 구축\n",
        "model = models.Sequential()\n",
        "model.add(layers.Dense(100, activation = 'relu', input_shape = (41, ))) # 입력층 : 41개 오디오 특징\n",
        "model.add(layers.Dense(50, activation = 'relu'))\n",
        "model.add(layers.Dense(2, activation = 'softmax'))\n",
        "model.summary()"
      ],
      "metadata": {
        "id": "0_6m1VZC0qPf"
      },
      "execution_count": null,
      "outputs": []
    },
    {
      "cell_type": "code",
      "source": [
        "# 학습환경\n",
        "model.compile(optimizer='adam',\n",
        "              loss=losses.categorical_crossentropy,\n",
        "              metrics=['accuracy'])"
      ],
      "metadata": {
        "id": "HL5fvuQ_0vs1"
      },
      "execution_count": null,
      "outputs": []
    },
    {
      "cell_type": "code",
      "source": [
        "# 모델 학습\n",
        "best_model_weights = './base.model'\n",
        "\n",
        "# https://deep-deep-deep.tistory.com/53\n",
        "checkpoint = ModelCheckpoint(\n",
        "    best_model_weights,\n",
        "    monitor='val_acc',\n",
        "    verbose=1,\n",
        "    save_best_only=True,\n",
        "    mode='min',\n",
        "    save_weights_only=False,\n",
        "    period=1\n",
        ")\n",
        "\n",
        "callbacks = [checkpoint]\n",
        "\n",
        "history = model.fit(\n",
        "    X_train_features,\n",
        "    train_labels,\n",
        "    validation_data=(X_test_features,test_labels),\n",
        "    epochs = 200,\n",
        "    verbose = 1,\n",
        "    callbacks=callbacks,\n",
        ")"
      ],
      "metadata": {
        "id": "shrPJTfu0v4U"
      },
      "execution_count": null,
      "outputs": []
    },
    {
      "cell_type": "code",
      "source": [
        "print(history.history.keys())\n",
        "acc = history.history['accuracy']\n",
        "val_acc = history.history['val_accuracy']\n",
        "epochs = range(1, len(acc)+1)\n",
        "plt.plot(epochs, acc, 'b', label = \"training accuracy\")\n",
        "plt.plot(epochs, val_acc, 'r', label = \"validation accuracy\")\n",
        "plt.title('Training and validation accuracy')\n",
        "plt.legend()\n",
        "plt.show()"
      ],
      "metadata": {
        "colab": {
          "base_uri": "https://localhost:8080/",
          "height": 470
        },
        "id": "-Wmrih0j0v7n",
        "outputId": "6927c796-0709-412f-f4ec-3a877f1bc710"
      },
      "execution_count": null,
      "outputs": [
        {
          "output_type": "stream",
          "name": "stdout",
          "text": [
            "dict_keys(['loss', 'accuracy', 'val_loss', 'val_accuracy'])\n"
          ]
        },
        {
          "output_type": "display_data",
          "data": {
            "text/plain": [
              "<Figure size 640x480 with 1 Axes>"
            ],
            "image/png": "[encoded data removed]"
          },
          "metadata": {}
        }
      ]
    },
    {
      "cell_type": "code",
      "source": [
        "# 모델 저장\n",
        "model.save_weights('model_wieghts.h5')\n",
        "model.save('model_keras.h5')\n",
        "print('model saved...')"
      ],
      "metadata": {
        "id": "Q6ouoaUn0v-e"
      },
      "execution_count": null,
      "outputs": []
    },
    {
      "cell_type": "code",
      "source": [
        "# 모델 테스트\n",
        "print(X_test_features.shape) # (63, 41)\n",
        "\n",
        "import IPython.display as ipd\n",
        "nr_to_predict = 1 # 두번째 음성\n",
        "pred = model.predict(X_test_features[nr_to_predict].reshape(1, 41,))\n",
        "print(\"Cat: {} Dog: {}\".format(pred[0][0], pred[0][1]))\n",
        "\n",
        "if (y_test[nr_to_predict] == 0):\n",
        "    print (\"This is a cat meowing\")\n",
        "else:\n",
        "    print (\"This is a dog barking\")\n",
        "\n",
        "plt.plot(X_test_features[nr_to_predict])\n",
        "ipd.Audio(X_test[nr_to_predict],  rate=wav_rate)"
      ],
      "metadata": {
        "id": "J46B7ID60_MP"
      },
      "execution_count": null,
      "outputs": []
    },
    {
      "cell_type": "code",
      "source": [
        "# 모델 테스트\n",
        "print(X_test_features.shape) # (63, 41)\n",
        "\n",
        "import IPython.display as ipd\n",
        "nr_to_predict = 62 # 마지막 음성\n",
        "pred = model.predict(X_test_features[nr_to_predict].reshape(1, 41,))\n",
        "print(\"Cat: {} Dog: {}\".format(pred[0][0], pred[0][1]))\n",
        "\n",
        "if (y_test[nr_to_predict] == 0):\n",
        "    print (\"This is a cat meowing\")\n",
        "else:\n",
        "    print (\"This is a dog barking\")\n",
        "\n",
        "plt.plot(X_test_features[nr_to_predict])\n",
        "ipd.Audio(X_test[nr_to_predict],  rate=wav_rate)"
      ],
      "metadata": {
        "id": "LM7gWQut0_R2"
      },
      "execution_count": null,
      "outputs": []
    }
  ]
}